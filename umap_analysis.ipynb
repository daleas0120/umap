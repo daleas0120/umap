{
 "cells": [
  {
   "cell_type": "markdown",
   "metadata": {
    "pycharm": {
     "name": "#%% md\n"
    }
   },
   "source": [
    "# UMAP Analysis and Plotting\n",
    "\n",
    "This notebook goes through the basic steps of creating a UMAP embedding.  It uses the interactive plotting environment\n",
    "*plotly* to create dynamic visualizations of different variables with the option to save them to .png files."
   ]
  },
  {
   "cell_type": "code",
   "execution_count": 1,
   "metadata": {
    "pycharm": {
     "name": "#%%\n"
    },
    "tags": []
   },
   "outputs": [],
   "source": [
    "# import statements\n",
    "import json\n",
    "import pandas as pd\n",
    "import yaml\n",
    "from utils import umap_utils as uu\n",
    "import copy\n",
    "import os\n",
    "from tqdm import tqdm, trange\n",
    "import numpy as np\n",
    "import os\n",
    "import plotly.graph_objects as go\n",
    "import plotly.express as px\n",
    "from jupyter_dash import JupyterDash\n",
    "from dash import Dash, dcc, html, Input, Output, no_update"
   ]
  },
  {
   "cell_type": "markdown",
   "metadata": {
    "pycharm": {
     "name": "#%% md\n"
    }
   },
   "source": [
    "## Specify the configuration file\n",
    "\n",
    "The configuration file should be a `.yml` format like this:\n",
    "\n",
    "```\n",
    "UMAP_SETTINGS:\n",
    "  LD_COLUMNS: ['z0', 'z1', 'z2', 'z3', 'z4', 'z5', 'z6', 'z7',\n",
    "  'z8', 'z9', 'z10', 'z11', 'z12', 'z13', 'z14', 'z15',\n",
    "  'z16', 'z17', 'z18', 'z19', 'z20', 'z21', 'z22', 'z23',\n",
    "  'z24', 'z25', 'z26', 'z27', 'z28', 'z29', 'z30', 'z31']\n",
    "  NUM_COMPONENTS: 32\n",
    "  NUM_NEIGHBORS: [5]\n",
    "  MIN_DISTANCE: [0.001]\n",
    "  \n",
    "DATA:\n",
    "  FILE_PATH: '/home/daleas/umap/data/20210608T1001dataFrame.csv'\n",
    "  IMAGE_PATH: '/home/daleas/VAE_RGBZ/'\n",
    "  CLASSES: [\"Plane\", \"Glider\", \"Kite\", \"Quadcopter\", \"Eagle\"]\n",
    "  SUPERCLASSES: [\"RW\", \"VW\"]\n",
    "  CLASS_MAP: {\"Plane\": 0, \"Glider\": 1, \"Kite\": 2, \"Quadcopter\":3, \"Eagle\":4}\n",
    "  SUPERCLASS_MAP: {\"RW\": 0, \"VW\": 1}\n",
    "  CLASS_DICT: { \"RW\": {\"Plane\": {'x': [], 'y': [], 'z': []},\n",
    "                               \"Glider\": {'x': [], 'y': [], 'z': []},\n",
    "                               \"Kite\": {'x': [], 'y': [], 'z': []},\n",
    "                               \"Quadcopter\": {'x': [], 'y': [], 'z': []},\n",
    "                               \"Eagle\": {'x': [], 'y': [], 'z': []}},\n",
    "                        \"VW\": {\"Plane\": {'x': [], 'y': [], 'z': []},\n",
    "                              \"Glider\":{'x': [], 'y': [], 'z': []},\n",
    "                              \"Kite\": {'x': [], 'y': [], 'z': []},\n",
    "                              \"Quadcopter\": {'x': [], 'y': [], 'z': []},\n",
    "                              \"Eagle\": {'x': [], 'y': [], 'z': []}}\n",
    "                       }`\n",
    "  SUPERCLASS_DICT: {\"RW\": {'x':[], 'y':[], 'z':[]}, \"VW\": {'x':[], 'y':[], 'z':[]}}\n",
    "```\n",
    "\n",
    "You can specify whatever classes, superclasses, and class mappings you like.  There is a way to auto-generate some of this, but I haven't had time to write it up.\n",
    "\n",
    "Specifying the configuration file automatically loads variables and data, and allows for testing different UMAP combinations"
   ]
  },
  {
   "cell_type": "code",
   "execution_count": 4,
   "metadata": {},
   "outputs": [],
   "source": [
    "cwd = os.getcwd()"
   ]
  },
  {
   "cell_type": "code",
   "execution_count": 6,
   "metadata": {
    "collapsed": false,
    "jupyter": {
     "outputs_hidden": false
    },
    "pycharm": {
     "name": "#%%\n"
    }
   },
   "outputs": [],
   "source": [
    "### CHANGE THIS PATH: \n",
    "config_file = os.path.join(cwd, 'config/RGBdata_32D.yml')"
   ]
  },
  {
   "cell_type": "markdown",
   "metadata": {},
   "source": [
    "## Load Data and Settings\n",
    "\n",
    "The following two cells should not require adjusting"
   ]
  },
  {
   "cell_type": "code",
   "execution_count": 9,
   "metadata": {
    "pycharm": {
     "name": "#%%\n"
    },
    "tags": []
   },
   "outputs": [],
   "source": [
    "with open(config_file) as file:\n",
    "    config = yaml.load(file, Loader=yaml.FullLoader)\n",
    "\n",
    "FILE_PATH = os.path.join(cwd, config['DATA']['FILE_PATH'])\n",
    "LD_COLUMNS = config['UMAP_SETTINGS']['LD_COLUMNS']\n",
    "MIN_DISTANCE = config['UMAP_SETTINGS']['MIN_DISTANCE']\n",
    "NUM_NEIGHBORS = config['UMAP_SETTINGS']['NUM_NEIGHBORS']\n",
    "NUM_COMPONENTS = config['UMAP_SETTINGS']['NUM_COMPONENTS']\n",
    "CLASS_MAP = config['DATA']['CLASS_MAP']\n",
    "SUPERCLASS_MAP = config['DATA']['SUPERCLASS_MAP']\n",
    "CLASS_DICT = config['DATA']['CLASS_DICT']\n",
    "SUPERCLASS_DICT = config['DATA']['SUPERCLASS_DICT']\n",
    "CLASSES = config['DATA']['CLASSES']\n",
    "SUPERCLASSES = config['DATA']['SUPERCLASSES']\n",
    "IMAGE_PATH = config['DATA']['IMAGE_PATH']\n",
    "\n",
    "port_num = 8050"
   ]
  },
  {
   "cell_type": "code",
   "execution_count": 10,
   "metadata": {
    "collapsed": false,
    "jupyter": {
     "outputs_hidden": false
    },
    "pycharm": {
     "name": "#%%\n"
    }
   },
   "outputs": [],
   "source": [
    "[saveDirPath, file] = os.path.split(FILE_PATH)\n",
    "\n",
    "saveDir = os.path.join(saveDirPath, 'umap')\n",
    "if not os.path.exists(saveDir):\n",
    "    os.mkdir(saveDir)\n",
    "os.chdir(saveDir)\n",
    "\n",
    "latentData = pd.read_csv(FILE_PATH)\n",
    "latentData_z = latentData[LD_COLUMNS].values\n",
    "imgList = latentData.filename.values\n",
    "imgLabels1 = latentData.DataType.values\n",
    "df_imgLabels1 = pd.DataFrame(imgLabels1, columns=['DataType'])\n",
    "imgLabels2 = latentData.Class.values\n",
    "df_imgLabels2 = pd.DataFrame(imgLabels2, columns=['Class'])\n",
    "df_imgList = pd.DataFrame(imgList, columns=['Name'])\n",
    "labels_true_class = [SUPERCLASS_MAP[class_str] for class_str in imgLabels1]\n",
    "df_labels_true_class = pd.DataFrame(labels_true_class, columns=['GT_ID'])\n",
    "\n",
    "# Sort the Data Into Classes\n",
    "classLabels = copy.deepcopy(CLASSES)\n",
    "dataTypesLabels = copy.deepcopy(SUPERCLASSES)\n",
    "labeledDataByClass = copy.deepcopy(CLASS_DICT)\n",
    "labeledDataByType = copy.deepcopy(SUPERCLASS_DICT)\n",
    "\n",
    "label1 = [classLabels[x] for x in latentData.Class.map(CLASS_MAP)]\n",
    "label2 = [dataTypesLabels[x] for x in latentData.DataType.map(SUPERCLASS_MAP)]"
   ]
  },
  {
   "cell_type": "markdown",
   "metadata": {},
   "source": [
    "### Preview the loaded data here\n",
    "The first five rows of data should automatically load, so that you can see that everything is correct"
   ]
  },
  {
   "cell_type": "code",
   "execution_count": 11,
   "metadata": {},
   "outputs": [
    {
     "data": {
      "text/html": [
       "<div>\n",
       "<style scoped>\n",
       "    .dataframe tbody tr th:only-of-type {\n",
       "        vertical-align: middle;\n",
       "    }\n",
       "\n",
       "    .dataframe tbody tr th {\n",
       "        vertical-align: top;\n",
       "    }\n",
       "\n",
       "    .dataframe thead th {\n",
       "        text-align: right;\n",
       "    }\n",
       "</style>\n",
       "<table border=\"1\" class=\"dataframe\">\n",
       "  <thead>\n",
       "    <tr style=\"text-align: right;\">\n",
       "      <th></th>\n",
       "      <th>Unnamed: 0</th>\n",
       "      <th>filename</th>\n",
       "      <th>z_filename</th>\n",
       "      <th>img_path</th>\n",
       "      <th>z_img_path</th>\n",
       "      <th>Class</th>\n",
       "      <th>DataType</th>\n",
       "      <th>z0</th>\n",
       "      <th>z1</th>\n",
       "      <th>z2</th>\n",
       "      <th>...</th>\n",
       "      <th>z22</th>\n",
       "      <th>z23</th>\n",
       "      <th>z24</th>\n",
       "      <th>z25</th>\n",
       "      <th>z26</th>\n",
       "      <th>z27</th>\n",
       "      <th>z28</th>\n",
       "      <th>z29</th>\n",
       "      <th>z30</th>\n",
       "      <th>z31</th>\n",
       "    </tr>\n",
       "  </thead>\n",
       "  <tbody>\n",
       "    <tr>\n",
       "      <th>0</th>\n",
       "      <td>0</td>\n",
       "      <td>biplane_00.png</td>\n",
       "      <td>None</td>\n",
       "      <td>data/biplane_00.png</td>\n",
       "      <td>data/None</td>\n",
       "      <td>Plane</td>\n",
       "      <td>RW</td>\n",
       "      <td>-29.119888</td>\n",
       "      <td>203.92926</td>\n",
       "      <td>-59.197700</td>\n",
       "      <td>...</td>\n",
       "      <td>195.43346</td>\n",
       "      <td>-158.05522</td>\n",
       "      <td>59.936710</td>\n",
       "      <td>118.28850</td>\n",
       "      <td>166.49731</td>\n",
       "      <td>163.83456</td>\n",
       "      <td>-97.614210</td>\n",
       "      <td>101.91274</td>\n",
       "      <td>179.30849</td>\n",
       "      <td>-21.362705</td>\n",
       "    </tr>\n",
       "    <tr>\n",
       "      <th>1</th>\n",
       "      <td>1</td>\n",
       "      <td>biplane_01.png</td>\n",
       "      <td>None</td>\n",
       "      <td>data/biplane_01.png</td>\n",
       "      <td>data/None</td>\n",
       "      <td>Plane</td>\n",
       "      <td>RW</td>\n",
       "      <td>-69.793520</td>\n",
       "      <td>224.46770</td>\n",
       "      <td>-126.900120</td>\n",
       "      <td>...</td>\n",
       "      <td>230.45184</td>\n",
       "      <td>-158.64777</td>\n",
       "      <td>9.611135</td>\n",
       "      <td>96.74483</td>\n",
       "      <td>193.25102</td>\n",
       "      <td>131.40953</td>\n",
       "      <td>-89.429040</td>\n",
       "      <td>136.76639</td>\n",
       "      <td>205.77017</td>\n",
       "      <td>-53.355366</td>\n",
       "    </tr>\n",
       "    <tr>\n",
       "      <th>2</th>\n",
       "      <td>2</td>\n",
       "      <td>biplane_03.png</td>\n",
       "      <td>None</td>\n",
       "      <td>data/biplane_03.png</td>\n",
       "      <td>data/None</td>\n",
       "      <td>Plane</td>\n",
       "      <td>RW</td>\n",
       "      <td>-64.213350</td>\n",
       "      <td>247.62384</td>\n",
       "      <td>-118.700080</td>\n",
       "      <td>...</td>\n",
       "      <td>245.82910</td>\n",
       "      <td>-178.26122</td>\n",
       "      <td>41.728706</td>\n",
       "      <td>128.31956</td>\n",
       "      <td>201.45428</td>\n",
       "      <td>160.12694</td>\n",
       "      <td>-113.652695</td>\n",
       "      <td>146.62924</td>\n",
       "      <td>222.21864</td>\n",
       "      <td>-53.345856</td>\n",
       "    </tr>\n",
       "    <tr>\n",
       "      <th>3</th>\n",
       "      <td>3</td>\n",
       "      <td>biplane_04.png</td>\n",
       "      <td>None</td>\n",
       "      <td>data/biplane_04.png</td>\n",
       "      <td>data/None</td>\n",
       "      <td>Plane</td>\n",
       "      <td>RW</td>\n",
       "      <td>-70.398420</td>\n",
       "      <td>201.52945</td>\n",
       "      <td>-118.945120</td>\n",
       "      <td>...</td>\n",
       "      <td>201.06625</td>\n",
       "      <td>-146.41835</td>\n",
       "      <td>-1.645173</td>\n",
       "      <td>76.77112</td>\n",
       "      <td>180.55313</td>\n",
       "      <td>108.82903</td>\n",
       "      <td>-79.443950</td>\n",
       "      <td>123.19585</td>\n",
       "      <td>187.33340</td>\n",
       "      <td>-46.025455</td>\n",
       "    </tr>\n",
       "    <tr>\n",
       "      <th>4</th>\n",
       "      <td>4</td>\n",
       "      <td>biplane_05.png</td>\n",
       "      <td>None</td>\n",
       "      <td>data/biplane_05.png</td>\n",
       "      <td>data/None</td>\n",
       "      <td>Plane</td>\n",
       "      <td>RW</td>\n",
       "      <td>-62.893900</td>\n",
       "      <td>242.21210</td>\n",
       "      <td>-106.510605</td>\n",
       "      <td>...</td>\n",
       "      <td>248.32800</td>\n",
       "      <td>-180.29260</td>\n",
       "      <td>47.390556</td>\n",
       "      <td>144.39601</td>\n",
       "      <td>208.17581</td>\n",
       "      <td>168.18546</td>\n",
       "      <td>-108.139900</td>\n",
       "      <td>137.94940</td>\n",
       "      <td>227.46078</td>\n",
       "      <td>-42.878925</td>\n",
       "    </tr>\n",
       "  </tbody>\n",
       "</table>\n",
       "<p>5 rows × 39 columns</p>\n",
       "</div>"
      ],
      "text/plain": [
       "   Unnamed: 0        filename z_filename             img_path z_img_path  \\\n",
       "0           0  biplane_00.png       None  data/biplane_00.png  data/None   \n",
       "1           1  biplane_01.png       None  data/biplane_01.png  data/None   \n",
       "2           2  biplane_03.png       None  data/biplane_03.png  data/None   \n",
       "3           3  biplane_04.png       None  data/biplane_04.png  data/None   \n",
       "4           4  biplane_05.png       None  data/biplane_05.png  data/None   \n",
       "\n",
       "   Class DataType         z0         z1          z2  ...        z22  \\\n",
       "0  Plane       RW -29.119888  203.92926  -59.197700  ...  195.43346   \n",
       "1  Plane       RW -69.793520  224.46770 -126.900120  ...  230.45184   \n",
       "2  Plane       RW -64.213350  247.62384 -118.700080  ...  245.82910   \n",
       "3  Plane       RW -70.398420  201.52945 -118.945120  ...  201.06625   \n",
       "4  Plane       RW -62.893900  242.21210 -106.510605  ...  248.32800   \n",
       "\n",
       "         z23        z24        z25        z26        z27         z28  \\\n",
       "0 -158.05522  59.936710  118.28850  166.49731  163.83456  -97.614210   \n",
       "1 -158.64777   9.611135   96.74483  193.25102  131.40953  -89.429040   \n",
       "2 -178.26122  41.728706  128.31956  201.45428  160.12694 -113.652695   \n",
       "3 -146.41835  -1.645173   76.77112  180.55313  108.82903  -79.443950   \n",
       "4 -180.29260  47.390556  144.39601  208.17581  168.18546 -108.139900   \n",
       "\n",
       "         z29        z30        z31  \n",
       "0  101.91274  179.30849 -21.362705  \n",
       "1  136.76639  205.77017 -53.355366  \n",
       "2  146.62924  222.21864 -53.345856  \n",
       "3  123.19585  187.33340 -46.025455  \n",
       "4  137.94940  227.46078 -42.878925  \n",
       "\n",
       "[5 rows x 39 columns]"
      ]
     },
     "execution_count": 11,
     "metadata": {},
     "output_type": "execute_result"
    }
   ],
   "source": [
    "latentData.head()"
   ]
  },
  {
   "cell_type": "markdown",
   "metadata": {},
   "source": [
    "## Plot Latent Space Before UMAP\n",
    "\n",
    "A visual check as to how entangled the original feature space is"
   ]
  },
  {
   "cell_type": "code",
   "execution_count": 12,
   "metadata": {},
   "outputs": [
    {
     "name": "stderr",
     "output_type": "stream",
     "text": [
      "/Users/ashley/Downloads/umap-main/utils/umap_utils.py:142: UserWarning: No data for colormapping provided via 'c'. Parameters 'cmap' will be ignored\n",
      "  ax.scatter(np.array(labeledDataByClass['RW'][class_name]['x']),\n"
     ]
    },
    {
     "data": {
      "image/png": "[encoded data removed]",
      "text/plain": [
       "<Figure size 500x500 with 1 Axes>"
      ]
     },
     "metadata": {},
     "output_type": "display_data"
    },
    {
     "name": "stderr",
     "output_type": "stream",
     "text": [
      "/Users/ashley/Downloads/umap-main/utils/umap_utils.py:168: UserWarning: No data for colormapping provided via 'c'. Parameters 'cmap' will be ignored\n",
      "  ax1.scatter(np.array(labeledDataByType['VW']['x']),\n",
      "/Users/ashley/Downloads/umap-main/utils/umap_utils.py:174: UserWarning: No data for colormapping provided via 'c'. Parameters 'cmap' will be ignored\n",
      "  ax1.scatter(np.array(labeledDataByType['RW']['x']),\n"
     ]
    },
    {
     "data": {
      "image/png": "[encoded data removed]",
      "text/plain": [
       "<Figure size 500x500 with 1 Axes>"
      ]
     },
     "metadata": {},
     "output_type": "display_data"
    },
    {
     "name": "stdout",
     "output_type": "stream",
     "text": [
      "Estimated number of clusters: 0\n",
      "Estimated number of noise points: 19\n",
      "Homogeneity: 1.000\n",
      "Completeness: 1.000\n",
      "V-measure: 1.000\n",
      "Adjusted Rand Index: 1.000\n",
      "Adjusted Mutual Information: 1.000\n"
     ]
    }
   ],
   "source": [
    "labels, df_labels, n_clusters_, n_noise_, _ = uu.see_OG_latent_space(labeledDataByClass, latentData_z, labeledDataByType, imgLabels1, label1, label2, NUM_COMPONENTS)"
   ]
  },
  {
   "cell_type": "markdown",
   "metadata": {},
   "source": [
    "## UMAP\n",
    "\n",
    "This is the simplest implementation of UMAP.  It uses the parameters in the .yml file."
   ]
  },
  {
   "cell_type": "code",
   "execution_count": 14,
   "metadata": {},
   "outputs": [],
   "source": [
    "min_distance = MIN_DISTANCE[0]\n",
    "num =2#NUM_NEIGHBORS[0]\n",
    "\n",
    "umap_embedded_data = uu.draw_umap(latentData_z, num, min_distance, NUM_COMPONENTS)"
   ]
  },
  {
   "cell_type": "markdown",
   "metadata": {},
   "source": [
    "## DBSCAN Clustering\n",
    "Attempts to find clusters in the result returned by UMAP.  Prints the following statistics.\n",
    "\n",
    "|Metric|Range|Explanation|\n",
    "|---|---|---|\n",
    "|Homogeneity| 0.0 to 1.0| 1.0 means all of clusters contain only data points which are members of a single class|\n",
    "|Completeness|0.0 to 1.0| 1.0 means all the data points that are members of a given class are elements of the same cluster|\n",
    "|V-measure|-|harmonic mean between homogeneity and completeness|\n",
    "|Adjusted Rand Index|0.0 to 1.0|0.0 for random labeling independently of the number of clusters and samples and exactly 1.0 when the clusterings are identical|\n",
    "|Adjusted Mutual Information|-|ccounts for the fact that the MI is generally higher for two clusterings with a larger number of clusters, regardless of whether there is actually more information shared|"
   ]
  },
  {
   "cell_type": "code",
   "execution_count": 15,
   "metadata": {},
   "outputs": [
    {
     "name": "stdout",
     "output_type": "stream",
     "text": [
      "Estimated number of clusters: 0\n",
      "Estimated number of noise points: 19\n",
      "Homogeneity: 1.000\n",
      "Completeness: 1.000\n",
      "V-measure: 1.000\n",
      "Adjusted Rand Index: 1.000\n",
      "Adjusted Mutual Information: 1.000\n"
     ]
    }
   ],
   "source": [
    "dbscanlabels, df_labels, n_clusters_, n_noise_, db_stats = \\\n",
    "        uu.clusterDBSCAN(umap_embedded_data, labels_true_class, NUM_COMPONENTS)\n",
    "cluster_labels = pd.DataFrame.from_dict({'Cluster ID': dbscanlabels})"
   ]
  },
  {
   "cell_type": "markdown",
   "metadata": {},
   "source": [
    "## Distance Calculations\n",
    "Currently using the [Hausdorff Distance](https://en.wikipedia.org/wiki/Hausdorff_distance).  "
   ]
  },
  {
   "cell_type": "code",
   "execution_count": 16,
   "metadata": {},
   "outputs": [
    {
     "name": "stderr",
     "output_type": "stream",
     "text": [
      "0it [00:00, ?it/s]\n"
     ]
    }
   ],
   "source": [
    "cluster_distances = uu.getHausdorffDist(n_clusters_, dbscanlabels, umap_embedded_data)\n",
    "\n",
    "metrics = {'h_dist': cluster_distances, 'metrics': db_stats}\n",
    "with open(\"crosstrain_umap_metrics.json\", \"w\") as outfile:\n",
    "    json.dump(metrics, outfile)"
   ]
  },
  {
   "cell_type": "code",
   "execution_count": 17,
   "metadata": {},
   "outputs": [
    {
     "data": {
      "text/html": [
       "<div>\n",
       "<style scoped>\n",
       "    .dataframe tbody tr th:only-of-type {\n",
       "        vertical-align: middle;\n",
       "    }\n",
       "\n",
       "    .dataframe tbody tr th {\n",
       "        vertical-align: top;\n",
       "    }\n",
       "\n",
       "    .dataframe thead th {\n",
       "        text-align: right;\n",
       "    }\n",
       "</style>\n",
       "<table border=\"1\" class=\"dataframe\">\n",
       "  <thead>\n",
       "    <tr style=\"text-align: right;\">\n",
       "      <th></th>\n",
       "      <th>h_dist</th>\n",
       "      <th>metrics</th>\n",
       "    </tr>\n",
       "  </thead>\n",
       "  <tbody>\n",
       "    <tr>\n",
       "      <th>n_clusters</th>\n",
       "      <td>NaN</td>\n",
       "      <td>0.0</td>\n",
       "    </tr>\n",
       "    <tr>\n",
       "      <th>n_noise</th>\n",
       "      <td>NaN</td>\n",
       "      <td>19.0</td>\n",
       "    </tr>\n",
       "    <tr>\n",
       "      <th>homogeneity</th>\n",
       "      <td>NaN</td>\n",
       "      <td>1.0</td>\n",
       "    </tr>\n",
       "    <tr>\n",
       "      <th>completeness</th>\n",
       "      <td>NaN</td>\n",
       "      <td>1.0</td>\n",
       "    </tr>\n",
       "    <tr>\n",
       "      <th>V-measure</th>\n",
       "      <td>NaN</td>\n",
       "      <td>1.0</td>\n",
       "    </tr>\n",
       "    <tr>\n",
       "      <th>adj_rand_ind</th>\n",
       "      <td>NaN</td>\n",
       "      <td>1.0</td>\n",
       "    </tr>\n",
       "    <tr>\n",
       "      <th>adj_mut_info</th>\n",
       "      <td>NaN</td>\n",
       "      <td>1.0</td>\n",
       "    </tr>\n",
       "  </tbody>\n",
       "</table>\n",
       "</div>"
      ],
      "text/plain": [
       "              h_dist  metrics\n",
       "n_clusters       NaN      0.0\n",
       "n_noise          NaN     19.0\n",
       "homogeneity      NaN      1.0\n",
       "completeness     NaN      1.0\n",
       "V-measure        NaN      1.0\n",
       "adj_rand_ind     NaN      1.0\n",
       "adj_mut_info     NaN      1.0"
      ]
     },
     "execution_count": 17,
     "metadata": {},
     "output_type": "execute_result"
    }
   ],
   "source": [
    "pd.DataFrame.from_dict(metrics)"
   ]
  },
  {
   "cell_type": "markdown",
   "metadata": {},
   "source": [
    "## Format UMAP Embedding & DBSCAN Clustering Information into a Pandas DataFrame"
   ]
  },
  {
   "cell_type": "code",
   "execution_count": 18,
   "metadata": {},
   "outputs": [],
   "source": [
    "umap_embed_df = pd.DataFrame(umap_embedded_data)\n",
    "umap_embed_df.columns = LD_COLUMNS\n",
    "umap_data = pd.concat([latentData[[\"Unnamed: 0\", \"Class\", \"DataType\", \"filename\", \"img_path\", \"z_filename\", \"z_img_path\"]], cluster_labels, umap_embed_df], axis=1)"
   ]
  },
  {
   "cell_type": "code",
   "execution_count": 19,
   "metadata": {},
   "outputs": [
    {
     "data": {
      "text/html": [
       "<div>\n",
       "<style scoped>\n",
       "    .dataframe tbody tr th:only-of-type {\n",
       "        vertical-align: middle;\n",
       "    }\n",
       "\n",
       "    .dataframe tbody tr th {\n",
       "        vertical-align: top;\n",
       "    }\n",
       "\n",
       "    .dataframe thead th {\n",
       "        text-align: right;\n",
       "    }\n",
       "</style>\n",
       "<table border=\"1\" class=\"dataframe\">\n",
       "  <thead>\n",
       "    <tr style=\"text-align: right;\">\n",
       "      <th></th>\n",
       "      <th>Unnamed: 0</th>\n",
       "      <th>Class</th>\n",
       "      <th>DataType</th>\n",
       "      <th>filename</th>\n",
       "      <th>img_path</th>\n",
       "      <th>z_filename</th>\n",
       "      <th>z_img_path</th>\n",
       "      <th>Cluster ID</th>\n",
       "      <th>z0</th>\n",
       "      <th>z1</th>\n",
       "      <th>...</th>\n",
       "      <th>z22</th>\n",
       "      <th>z23</th>\n",
       "      <th>z24</th>\n",
       "      <th>z25</th>\n",
       "      <th>z26</th>\n",
       "      <th>z27</th>\n",
       "      <th>z28</th>\n",
       "      <th>z29</th>\n",
       "      <th>z30</th>\n",
       "      <th>z31</th>\n",
       "    </tr>\n",
       "  </thead>\n",
       "  <tbody>\n",
       "    <tr>\n",
       "      <th>0</th>\n",
       "      <td>0</td>\n",
       "      <td>Plane</td>\n",
       "      <td>RW</td>\n",
       "      <td>biplane_00.png</td>\n",
       "      <td>data/biplane_00.png</td>\n",
       "      <td>None</td>\n",
       "      <td>data/None</td>\n",
       "      <td>-1</td>\n",
       "      <td>8.803608</td>\n",
       "      <td>1.221762</td>\n",
       "      <td>...</td>\n",
       "      <td>7.073973</td>\n",
       "      <td>4.794032</td>\n",
       "      <td>0.249676</td>\n",
       "      <td>4.767695</td>\n",
       "      <td>-0.587812</td>\n",
       "      <td>2.168298</td>\n",
       "      <td>-0.582330</td>\n",
       "      <td>5.723341</td>\n",
       "      <td>-2.022280</td>\n",
       "      <td>6.059303</td>\n",
       "    </tr>\n",
       "    <tr>\n",
       "      <th>1</th>\n",
       "      <td>1</td>\n",
       "      <td>Plane</td>\n",
       "      <td>RW</td>\n",
       "      <td>biplane_01.png</td>\n",
       "      <td>data/biplane_01.png</td>\n",
       "      <td>None</td>\n",
       "      <td>data/None</td>\n",
       "      <td>-1</td>\n",
       "      <td>9.395815</td>\n",
       "      <td>9.143758</td>\n",
       "      <td>...</td>\n",
       "      <td>2.205101</td>\n",
       "      <td>7.518552</td>\n",
       "      <td>5.762157</td>\n",
       "      <td>7.543535</td>\n",
       "      <td>3.830263</td>\n",
       "      <td>6.338415</td>\n",
       "      <td>9.893173</td>\n",
       "      <td>10.201375</td>\n",
       "      <td>5.049489</td>\n",
       "      <td>4.192052</td>\n",
       "    </tr>\n",
       "    <tr>\n",
       "      <th>2</th>\n",
       "      <td>2</td>\n",
       "      <td>Plane</td>\n",
       "      <td>RW</td>\n",
       "      <td>biplane_03.png</td>\n",
       "      <td>data/biplane_03.png</td>\n",
       "      <td>None</td>\n",
       "      <td>data/None</td>\n",
       "      <td>-1</td>\n",
       "      <td>5.799417</td>\n",
       "      <td>5.503187</td>\n",
       "      <td>...</td>\n",
       "      <td>4.882493</td>\n",
       "      <td>5.884676</td>\n",
       "      <td>7.547641</td>\n",
       "      <td>-1.041279</td>\n",
       "      <td>5.466304</td>\n",
       "      <td>11.098438</td>\n",
       "      <td>4.736075</td>\n",
       "      <td>0.277186</td>\n",
       "      <td>-1.723230</td>\n",
       "      <td>6.930176</td>\n",
       "    </tr>\n",
       "    <tr>\n",
       "      <th>3</th>\n",
       "      <td>3</td>\n",
       "      <td>Plane</td>\n",
       "      <td>RW</td>\n",
       "      <td>biplane_04.png</td>\n",
       "      <td>data/biplane_04.png</td>\n",
       "      <td>None</td>\n",
       "      <td>data/None</td>\n",
       "      <td>-1</td>\n",
       "      <td>5.144597</td>\n",
       "      <td>3.097935</td>\n",
       "      <td>...</td>\n",
       "      <td>9.603074</td>\n",
       "      <td>1.956293</td>\n",
       "      <td>4.746626</td>\n",
       "      <td>1.124341</td>\n",
       "      <td>0.708268</td>\n",
       "      <td>7.685358</td>\n",
       "      <td>9.160091</td>\n",
       "      <td>6.195323</td>\n",
       "      <td>3.418391</td>\n",
       "      <td>2.051172</td>\n",
       "    </tr>\n",
       "    <tr>\n",
       "      <th>4</th>\n",
       "      <td>4</td>\n",
       "      <td>Plane</td>\n",
       "      <td>RW</td>\n",
       "      <td>biplane_05.png</td>\n",
       "      <td>data/biplane_05.png</td>\n",
       "      <td>None</td>\n",
       "      <td>data/None</td>\n",
       "      <td>-1</td>\n",
       "      <td>5.772846</td>\n",
       "      <td>5.561194</td>\n",
       "      <td>...</td>\n",
       "      <td>4.822309</td>\n",
       "      <td>5.945179</td>\n",
       "      <td>7.607595</td>\n",
       "      <td>-0.998214</td>\n",
       "      <td>5.489072</td>\n",
       "      <td>11.034298</td>\n",
       "      <td>4.675673</td>\n",
       "      <td>0.217362</td>\n",
       "      <td>-1.782888</td>\n",
       "      <td>6.867155</td>\n",
       "    </tr>\n",
       "  </tbody>\n",
       "</table>\n",
       "<p>5 rows × 40 columns</p>\n",
       "</div>"
      ],
      "text/plain": [
       "   Unnamed: 0  Class DataType        filename             img_path z_filename  \\\n",
       "0           0  Plane       RW  biplane_00.png  data/biplane_00.png       None   \n",
       "1           1  Plane       RW  biplane_01.png  data/biplane_01.png       None   \n",
       "2           2  Plane       RW  biplane_03.png  data/biplane_03.png       None   \n",
       "3           3  Plane       RW  biplane_04.png  data/biplane_04.png       None   \n",
       "4           4  Plane       RW  biplane_05.png  data/biplane_05.png       None   \n",
       "\n",
       "  z_img_path  Cluster ID        z0        z1  ...       z22       z23  \\\n",
       "0  data/None          -1  8.803608  1.221762  ...  7.073973  4.794032   \n",
       "1  data/None          -1  9.395815  9.143758  ...  2.205101  7.518552   \n",
       "2  data/None          -1  5.799417  5.503187  ...  4.882493  5.884676   \n",
       "3  data/None          -1  5.144597  3.097935  ...  9.603074  1.956293   \n",
       "4  data/None          -1  5.772846  5.561194  ...  4.822309  5.945179   \n",
       "\n",
       "        z24       z25       z26        z27       z28        z29       z30  \\\n",
       "0  0.249676  4.767695 -0.587812   2.168298 -0.582330   5.723341 -2.022280   \n",
       "1  5.762157  7.543535  3.830263   6.338415  9.893173  10.201375  5.049489   \n",
       "2  7.547641 -1.041279  5.466304  11.098438  4.736075   0.277186 -1.723230   \n",
       "3  4.746626  1.124341  0.708268   7.685358  9.160091   6.195323  3.418391   \n",
       "4  7.607595 -0.998214  5.489072  11.034298  4.675673   0.217362 -1.782888   \n",
       "\n",
       "        z31  \n",
       "0  6.059303  \n",
       "1  4.192052  \n",
       "2  6.930176  \n",
       "3  2.051172  \n",
       "4  6.867155  \n",
       "\n",
       "[5 rows x 40 columns]"
      ]
     },
     "execution_count": 19,
     "metadata": {},
     "output_type": "execute_result"
    }
   ],
   "source": [
    "umap_data.head()"
   ]
  },
  {
   "cell_type": "markdown",
   "metadata": {},
   "source": [
    "## Load Original Images (For Interactive Plotting)"
   ]
  },
  {
   "cell_type": "code",
   "execution_count": 21,
   "metadata": {},
   "outputs": [
    {
     "name": "stderr",
     "output_type": "stream",
     "text": [
      "100%|████████████████████████████████████████████████████████████████████████████████████████████████████████████████████████████████████████████████████████████████████████████████████| 19/19 [00:00<00:00, 235.04it/s]\n"
     ]
    }
   ],
   "source": [
    "latentData['img_path'].tolist()\n",
    "img_data = uu.load_images(os.path.join(cwd, IMAGE_PATH), latentData['filename'].tolist())"
   ]
  },
  {
   "cell_type": "markdown",
   "metadata": {},
   "source": [
    "## Define Dash App for Interactive UMAP Plot"
   ]
  },
  {
   "cell_type": "code",
   "execution_count": 22,
   "metadata": {},
   "outputs": [],
   "source": [
    "data_to_plot = umap_data"
   ]
  },
  {
   "cell_type": "code",
   "execution_count": 23,
   "metadata": {
    "tags": []
   },
   "outputs": [],
   "source": [
    "# Declare the app variable\n",
    "app = JupyterDash(__name__)\n",
    "\n",
    "# Lay out the html containers for the app.  On the left is the graph and title; on the right are the controls\n",
    "\n",
    "app.layout = html.Div([\n",
    "    html.Div(children=[    \n",
    "        html.Label(['UMAP Embedding', \n",
    "                    dcc.Graph(id='graph', \n",
    "                              style={'width': '90wh', 'height': '90vh'},\n",
    "                              clear_on_unhover=True,),\n",
    "                    dcc.Tooltip(id=\"img_display\", direction='bottom'),])\n",
    "        #dcc.Graph(id='graph', responsive=True)])\n",
    "    ], style={'width': '69%', 'float':'left'}),\n",
    "    \n",
    "    html.Div(children=[\n",
    "        html.H5('Select Classes'),\n",
    "        dcc.Checklist((data_to_plot['Class'].unique()).tolist(),(data_to_plot['Class'].unique()).tolist(), id='class_checklist'),\n",
    "        html.Hr(),\n",
    "        html.H5('Select Super Classes'),\n",
    "        dcc.Checklist((data_to_plot['DataType'].unique()).tolist(), (data_to_plot['DataType'].unique()).tolist(), id='superclass_checklist'),\n",
    "        html.Hr(),\n",
    "        html.H5('Select Components'),\n",
    "        dcc.Checklist(LD_COLUMNS, [LD_COLUMNS[0], LD_COLUMNS[1], LD_COLUMNS[2]], id='components'),\n",
    "        html.Hr(),\n",
    "        html.H5(\"Color Map\"),\n",
    "        dcc.Dropdown(id='colormap_info', clearable=False, value='Class', options=[{'label': c, 'value': c}for c in list(data_to_plot.columns)]),\n",
    "        html.Hr(),\n",
    "        html.H5('Marker Size'), \n",
    "        dcc.Slider(min=0, max=30, marks={str(i): str(i) for i in range(0, 30, 5)}, value=1, id='marker_size'),\n",
    "        html.Hr(),\n",
    "        html.H5('Marker Transparency'), \n",
    "        dcc.Slider(min=0, max=100, marks={str(i): str(i) for i in range(0, 100, 10)}, value=100, id='marker_transparency'),\n",
    "    ], style={'width':'29%', 'float':'right'})\n",
    "])\n",
    "\n",
    "# Define callback to update graph\n",
    "\n",
    "# the @app.callback(...) is the wrapper for the function that updates the figure\n",
    "@app.callback(\n",
    "    [Output('graph', 'figure'),],\n",
    "    [Input(\"colormap_info\", \"value\"),\n",
    "    Input(\"class_checklist\", \"value\"),\n",
    "    Input('components', 'value'),\n",
    "    Input('marker_size', 'value'),\n",
    "    Input('marker_transparency', 'value'),\n",
    "    Input('superclass_checklist', 'value'),]\n",
    ")\n",
    "def update_figure(color_info, classes, compon, ms, mt, superclasses):\n",
    "    \"\"\"\n",
    "    :param color_info: which data feature to use to color the data points\n",
    "    :param classes: which classes to plot; filters data\n",
    "    :param compon: \"components\", which vector components to plot\n",
    "    :param ms: marker size\n",
    "    :param mt: marker transparency\n",
    "    :param superclasses: which super classes to plot; filters data\n",
    "    \"\"\"\n",
    "    \n",
    "    # declare empty figure so that the function always has something to return\n",
    "    fig = go.Figure()\n",
    "    \n",
    "    # filter the data based on the controls for classes\n",
    "    filtered_data = data_to_plot.loc[data_to_plot['Class'].isin(classes)]\n",
    "    \n",
    "    if len(superclasses)>0:\n",
    "        filtered_data = filtered_data.loc[filtered_data['DataType'].isin(superclasses)]\n",
    "    \n",
    "    # select the data based on which vector components are specified\n",
    "    if len(compon)==2:\n",
    "        x_data = compon[0]\n",
    "        y_data = compon[1]\n",
    "        # specify 2D scatter plot when two vectors are chosen\n",
    "        fig = px.scatter(filtered_data, x=x_data, y=y_data, color=filtered_data[color_info])\n",
    "        \n",
    "    if len(compon)>2:\n",
    "        x_data = compon[0]\n",
    "        y_data = compon[1]\n",
    "        z_data = compon[2]\n",
    "        # specify 3D scatter plot when more than 2 vectors are chosen\n",
    "        fig = px.scatter_3d(filtered_data, x=x_data, y=y_data, z=z_data, color=filtered_data[color_info])\n",
    "    \n",
    "    # if only one vector is selected, it will return an empty graph\n",
    "    \n",
    "    # update the plot marker size, transparency, and make sure the default hover is disabled\n",
    "    fig.update_traces(\n",
    "        marker=dict(size=ms, opacity=mt/100.),\n",
    "        selector=dict(mode='markers'),\n",
    "        hoverinfo=\"none\",\n",
    "        hovertemplate=None,)\n",
    "    \n",
    "    return [go.Figure(data=fig)]\n",
    "\n",
    "# This function updates the hover pop up image\n",
    "@app.callback(\n",
    "    [Output(\"img_display\", \"show\"),\n",
    "    Output(\"img_display\", \"bbox\"),\n",
    "    Output(\"img_display\", \"children\"),],\n",
    "    Input(\"graph\", \"hoverData\"),\n",
    "    Input(\"class_checklist\", \"value\"),\n",
    "    Input('superclass_checklist', 'value'),\n",
    "    Input('components', 'value'),\n",
    ")\n",
    "def display_hover(hoverData, classes, superclasses, comp):\n",
    "    \"\"\"\n",
    "    :param hoverData: when the cursor hovers over a graph data marker, it returns a hover object\n",
    "    :param classes: which classes are plotted; filters data\n",
    "    :param superclasses: which super classes are plotted; filters data\n",
    "    :param comp: \"components\", which vector components are plotted \n",
    "    \"\"\"\n",
    "    \n",
    "    # if the cursor is not on a data point, do nothing\n",
    "    if hoverData is None:\n",
    "        return False, no_update, no_update\n",
    "    \n",
    "    # extract the information from the cursor\n",
    "    hover_data = hoverData[\"points\"][0]\n",
    "    bbox = hover_data[\"bbox\"]\n",
    "    num = hover_data[\"pointNumber\"]\n",
    "    \n",
    "    # now need to map the hover data to the original data list to extract the image ID\n",
    "    filtered_data = data_to_plot.loc[data_to_plot['Class'].isin(classes)]\n",
    "    if len(superclasses)>0:\n",
    "        filtered_data = filtered_data.loc[filtered_data['DataType'].isin(superclasses)]\n",
    "    \n",
    "    # Selects original image info by matching the points in each vector component to the filtered down data list\n",
    "    # NOTE: the example uses the \"data point #\" from the pointer to do this mapping,\n",
    "    # but I found that the \"data point #\" is actually reused (multiple points with the same ID, I think based on class label), \n",
    "    # preventing a unique mapping.  Doing it this way was what worked in the end.\n",
    "    if len(comp)>1:\n",
    "        x_data = comp[0]\n",
    "        y_data = comp[1]\n",
    "        \n",
    "        test = filtered_data.loc[(filtered_data[x_data] == hover_data['x']) & (filtered_data[y_data] == hover_data['y'])]\n",
    "        \n",
    "    if len(comp)>2:\n",
    "        z_data = comp[2]\n",
    "        test = filtered_data.loc[(filtered_data[x_data] == hover_data['x']) & (filtered_data[y_data] == hover_data['y']) & (filtered_data[z_data] == hover_data['z'])]\n",
    "    \n",
    "    img_id = int(test['Unnamed: 0'])\n",
    "    im_matrix = img_data[img_id]\n",
    "    \n",
    "    im_url = uu.np_image_to_base64(im_matrix)\n",
    "    children = [\n",
    "        html.Div([\n",
    "            html.Img(\n",
    "                src=im_url,\n",
    "                style={\"width\": \"50px\", 'display': 'block', 'margin': '0 auto'},\n",
    "            ),\n",
    "            # this next line shows text with the image hover; saving so that the reconstruction score can be added later\n",
    "            # html.P(\"MNIST Digit \" + str(labels[num]), style={'font-weight': 'bold'})\n",
    "        ])\n",
    "    ]\n",
    "\n",
    "    return True, bbox, children\n",
    "    "
   ]
  },
  {
   "cell_type": "markdown",
   "metadata": {},
   "source": [
    "Every time you run the next cell, it ties up a new port.  Right now, the only way that I have found for this version of dash/plotly to release the ports is to restart the notebook kernel."
   ]
  },
  {
   "cell_type": "code",
   "execution_count": 24,
   "metadata": {},
   "outputs": [
    {
     "data": {
      "text/html": [
       "\n",
       "        <iframe\n",
       "            width=\"100%\"\n",
       "            height=\"650\"\n",
       "            src=\"http://127.0.0.1:8051/\"\n",
       "            frameborder=\"0\"\n",
       "            allowfullscreen\n",
       "            \n",
       "        ></iframe>\n",
       "        "
      ],
      "text/plain": [
       "<IPython.lib.display.IFrame at 0x1ad1c8f70>"
      ]
     },
     "metadata": {},
     "output_type": "display_data"
    }
   ],
   "source": [
    "port_num += 1 # small work around so that it updates the port number every time the cell is rerun (server doesn't auto release port)\n",
    "app.run_server(mode='inline', port=port_num)"
   ]
  },
  {
   "cell_type": "raw",
   "metadata": {},
   "source": [
    "# This command doesnt work as of an update past jupyter-dash 0.4.2\n",
    "# The only way I have found to kill the port is to restart the notebook kernel\n",
    "app._terminate_server_for_port(\"localhost\", 8057)"
   ]
  },
  {
   "cell_type": "code",
   "execution_count": null,
   "metadata": {},
   "outputs": [],
   "source": []
  },
  {
   "cell_type": "code",
   "execution_count": null,
   "metadata": {},
   "outputs": [],
   "source": []
  }
 ],
 "metadata": {
  "kernelspec": {
   "display_name": "Python 3 (ipykernel)",
   "language": "python",
   "name": "python3"
  },
  "language_info": {
   "codemirror_mode": {
    "name": "ipython",
    "version": 3
   },
   "file_extension": ".py",
   "mimetype": "text/x-python",
   "name": "python",
   "nbconvert_exporter": "python",
   "pygments_lexer": "ipython3",
   "version": "3.10.6"
  }
 },
 "nbformat": 4,
 "nbformat_minor": 4
}
